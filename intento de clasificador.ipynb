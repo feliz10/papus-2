{
 "cells": [
  {
   "cell_type": "markdown",
   "id": "c8d97df5",
   "metadata": {},
   "source": [
    "En este codigo vamos a implementar un clasificador de audio. \n",
    "Machine learning (Ml)\n",
    "- computer performs a task without using explicit instructions\n",
    "- la computadora aprende de los datos\n",
    "onset detection: indentifica el comienzo de una nota musical\n",
    "### DL aplicaciones en audio:\n",
    "- speech recognition\n",
    "- voice-based emotion classification\n",
    "- noise recognition\n",
    "- musical genre, instrument, mood classification\n",
    "- music tagging\n",
    "- music generation\n"
   ]
  },
  {
   "cell_type": "code",
   "execution_count": 8,
   "id": "979364aa",
   "metadata": {},
   "outputs": [
    {
     "name": "stdout",
     "output_type": "stream",
     "text": [
      "0.610639233949222\n"
     ]
    }
   ],
   "source": [
    "import math\n",
    "\n",
    "\n",
    "def sigmoid(x):\n",
    "    y=1/(1+math.exp(-x))\n",
    "    return y\n",
    "\n",
    "def activate(inputs,weights):\n",
    "    #perform net input\n",
    "    h=0\n",
    "    for x,w in zip(inputs,weights):\n",
    "        h+=x*w\n",
    "        \n",
    "    #perform the activation\n",
    "    return sigmoid(h)\n",
    "\n",
    "\n",
    "if __name__ ==\"__main__\":\n",
    "    inputs =[.5,.3,.2]\n",
    "    weights=[.4,.7,.2]\n",
    "    output=activate(inputs,weights)\n",
    "    print(output)"
   ]
  },
  {
   "cell_type": "code",
   "execution_count": 17,
   "id": "af292083",
   "metadata": {},
   "outputs": [],
   "source": [
    "import numpy as np\n",
    "from sklearn.model_selection import train_test_split\n",
    "import tensorflow.keras as keras\n",
    "import os, json, math, librosa\n"
   ]
  },
  {
   "cell_type": "code",
   "execution_count": 23,
   "id": "9d31366f",
   "metadata": {},
   "outputs": [],
   "source": [
    "\n",
    "DATASET_PATH = r\"C:\\Users\\feliz\\Documents\\aprendiendo python rapido\\tesis\\cantos pajaritos\"\n",
    "JSON_PATH = \"data_10.json\"\n",
    "SAMPLE_RATE = 22050\n",
    "TRACK_DURATION = 30 # measured in seconds\n",
    "SAMPLES_PER_TRACK = SAMPLE_RATE * TRACK_DURATION"
   ]
  },
  {
   "cell_type": "code",
   "execution_count": 26,
   "id": "80bb7ca8",
   "metadata": {},
   "outputs": [
    {
     "name": "stdout",
     "output_type": "stream",
     "text": [
      "\n",
      "Processing: Bengale Finches\n"
     ]
    },
    {
     "name": "stderr",
     "output_type": "stream",
     "text": [
      "<ipython-input-26-43b8552c8af4>:49: FutureWarning: Pass y=[0.02532269 0.03167583 0.02668724 ... 0.02638517 0.02574831 0.02513192], sr=22050 as keyword args. From version 0.10 passing these as positional arguments will result in an error\n",
      "  mfcc = librosa.feature.mfcc(signal[start:finish], sample_rate, n_mfcc=num_mfcc, n_fft=n_fft, hop_length=hop_length)\n",
      "<ipython-input-26-43b8552c8af4>:49: FutureWarning: Pass y=[0.02486883 0.02550259 0.02599536 ... 0.03035066 0.02873397 0.02758789], sr=22050 as keyword args. From version 0.10 passing these as positional arguments will result in an error\n",
      "  mfcc = librosa.feature.mfcc(signal[start:finish], sample_rate, n_mfcc=num_mfcc, n_fft=n_fft, hop_length=hop_length)\n",
      "<ipython-input-26-43b8552c8af4>:49: FutureWarning: Pass y=[ 0.02597126  0.02419224  0.02250736 ... -0.0046352  -0.00568279\n",
      " -0.00721671], sr=22050 as keyword args. From version 0.10 passing these as positional arguments will result in an error\n",
      "  mfcc = librosa.feature.mfcc(signal[start:finish], sample_rate, n_mfcc=num_mfcc, n_fft=n_fft, hop_length=hop_length)\n",
      "<ipython-input-26-43b8552c8af4>:49: FutureWarning: Pass y=[-0.00916604 -0.01007016 -0.0101028  ...  0.01630975  0.0159826\n",
      "  0.01486995], sr=22050 as keyword args. From version 0.10 passing these as positional arguments will result in an error\n",
      "  mfcc = librosa.feature.mfcc(signal[start:finish], sample_rate, n_mfcc=num_mfcc, n_fft=n_fft, hop_length=hop_length)\n",
      "<ipython-input-26-43b8552c8af4>:49: FutureWarning: Pass y=[0.01362692 0.01235161 0.0112934  ... 0.0266071  0.02730766 0.02637981], sr=22050 as keyword args. From version 0.10 passing these as positional arguments will result in an error\n",
      "  mfcc = librosa.feature.mfcc(signal[start:finish], sample_rate, n_mfcc=num_mfcc, n_fft=n_fft, hop_length=hop_length)\n",
      "<ipython-input-26-43b8552c8af4>:49: FutureWarning: Pass y=[0.02494339 0.02284499 0.01941582 ... 0.11829926 0.11538091 0.11063085], sr=22050 as keyword args. From version 0.10 passing these as positional arguments will result in an error\n",
      "  mfcc = librosa.feature.mfcc(signal[start:finish], sample_rate, n_mfcc=num_mfcc, n_fft=n_fft, hop_length=hop_length)\n",
      "<ipython-input-26-43b8552c8af4>:49: FutureWarning: Pass y=[0.10548635 0.10074806 0.09506491 ... 0.03946453 0.03897076 0.03830922], sr=22050 as keyword args. From version 0.10 passing these as positional arguments will result in an error\n",
      "  mfcc = librosa.feature.mfcc(signal[start:finish], sample_rate, n_mfcc=num_mfcc, n_fft=n_fft, hop_length=hop_length)\n",
      "<ipython-input-26-43b8552c8af4>:49: FutureWarning: Pass y=[0.03808553 0.03822717 0.03714862 ... 0.00581165 0.00381517 0.00157864], sr=22050 as keyword args. From version 0.10 passing these as positional arguments will result in an error\n",
      "  mfcc = librosa.feature.mfcc(signal[start:finish], sample_rate, n_mfcc=num_mfcc, n_fft=n_fft, hop_length=hop_length)\n"
     ]
    },
    {
     "name": "stdout",
     "output_type": "stream",
     "text": [
      "C:\\Users\\feliz\\Documents\\aprendiendo python rapido\\tesis\\cantos pajaritos\\Bengale Finches\\BF_T0000001.WAV, segment:1\n",
      "C:\\Users\\feliz\\Documents\\aprendiendo python rapido\\tesis\\cantos pajaritos\\Bengale Finches\\BF_T0000001.WAV, segment:2\n",
      "C:\\Users\\feliz\\Documents\\aprendiendo python rapido\\tesis\\cantos pajaritos\\Bengale Finches\\BF_T0000001.WAV, segment:3\n",
      "C:\\Users\\feliz\\Documents\\aprendiendo python rapido\\tesis\\cantos pajaritos\\Bengale Finches\\BF_T0000001.WAV, segment:4\n",
      "C:\\Users\\feliz\\Documents\\aprendiendo python rapido\\tesis\\cantos pajaritos\\Bengale Finches\\BF_T0000001.WAV, segment:5\n",
      "C:\\Users\\feliz\\Documents\\aprendiendo python rapido\\tesis\\cantos pajaritos\\Bengale Finches\\BF_T0000001.WAV, segment:6\n",
      "C:\\Users\\feliz\\Documents\\aprendiendo python rapido\\tesis\\cantos pajaritos\\Bengale Finches\\BF_T0000001.WAV, segment:7\n",
      "C:\\Users\\feliz\\Documents\\aprendiendo python rapido\\tesis\\cantos pajaritos\\Bengale Finches\\BF_T0000001.WAV, segment:8\n",
      "C:\\Users\\feliz\\Documents\\aprendiendo python rapido\\tesis\\cantos pajaritos\\Bengale Finches\\BF_T0000001.WAV, segment:9\n"
     ]
    },
    {
     "name": "stderr",
     "output_type": "stream",
     "text": [
      "<ipython-input-26-43b8552c8af4>:49: FutureWarning: Pass y=[-0.00039956 -0.00124673 -0.00168482 ...  0.01850177  0.01936561\n",
      "  0.01975966], sr=22050 as keyword args. From version 0.10 passing these as positional arguments will result in an error\n",
      "  mfcc = librosa.feature.mfcc(signal[start:finish], sample_rate, n_mfcc=num_mfcc, n_fft=n_fft, hop_length=hop_length)\n",
      "<ipython-input-26-43b8552c8af4>:49: FutureWarning: Pass y=[0.01970014 0.01976682 0.02014131 ... 0.00444062 0.0061631  0.00718143], sr=22050 as keyword args. From version 0.10 passing these as positional arguments will result in an error\n",
      "  mfcc = librosa.feature.mfcc(signal[start:finish], sample_rate, n_mfcc=num_mfcc, n_fft=n_fft, hop_length=hop_length)\n",
      "<ipython-input-26-43b8552c8af4>:49: FutureWarning: Pass y=[ 0.01065063  0.0052948   0.00337219 ... -0.00942993 -0.00950623\n",
      " -0.01098633], sr=22050 as keyword args. From version 0.10 passing these as positional arguments will result in an error\n",
      "  mfcc = librosa.feature.mfcc(signal[start:finish], sample_rate, n_mfcc=num_mfcc, n_fft=n_fft, hop_length=hop_length)\n",
      "<ipython-input-26-43b8552c8af4>:49: FutureWarning: Pass y=[-0.01321411 -0.0136261  -0.01325989 ...  0.02615356  0.02326965\n",
      "  0.02302551], sr=22050 as keyword args. From version 0.10 passing these as positional arguments will result in an error\n",
      "  mfcc = librosa.feature.mfcc(signal[start:finish], sample_rate, n_mfcc=num_mfcc, n_fft=n_fft, hop_length=hop_length)\n",
      "<ipython-input-26-43b8552c8af4>:49: FutureWarning: Pass y=[0.02137756 0.02047729 0.0201416  ... 0.00579834 0.01077271 0.00854492], sr=22050 as keyword args. From version 0.10 passing these as positional arguments will result in an error\n",
      "  mfcc = librosa.feature.mfcc(signal[start:finish], sample_rate, n_mfcc=num_mfcc, n_fft=n_fft, hop_length=hop_length)\n"
     ]
    },
    {
     "name": "stdout",
     "output_type": "stream",
     "text": [
      "C:\\Users\\feliz\\Documents\\aprendiendo python rapido\\tesis\\cantos pajaritos\\Bengale Finches\\BF_T0000001.WAV, segment:10\n",
      "C:\\Users\\feliz\\Documents\\aprendiendo python rapido\\tesis\\cantos pajaritos\\Bengale Finches\\BF_T0000725.WAV, segment:1\n",
      "C:\\Users\\feliz\\Documents\\aprendiendo python rapido\\tesis\\cantos pajaritos\\Bengale Finches\\BF_T0000725.WAV, segment:2\n",
      "C:\\Users\\feliz\\Documents\\aprendiendo python rapido\\tesis\\cantos pajaritos\\Bengale Finches\\BF_T0000725.WAV, segment:3\n",
      "C:\\Users\\feliz\\Documents\\aprendiendo python rapido\\tesis\\cantos pajaritos\\Bengale Finches\\BF_T0000725.WAV, segment:4\n",
      "C:\\Users\\feliz\\Documents\\aprendiendo python rapido\\tesis\\cantos pajaritos\\Bengale Finches\\BF_T0000725.WAV, segment:5\n"
     ]
    },
    {
     "name": "stderr",
     "output_type": "stream",
     "text": [
      "<ipython-input-26-43b8552c8af4>:49: FutureWarning: Pass y=[ 0.00801086  0.01031494  0.00970459 ...  0.00015259  0.00259399\n",
      " -0.00097656], sr=22050 as keyword args. From version 0.10 passing these as positional arguments will result in an error\n",
      "  mfcc = librosa.feature.mfcc(signal[start:finish], sample_rate, n_mfcc=num_mfcc, n_fft=n_fft, hop_length=hop_length)\n",
      "<ipython-input-26-43b8552c8af4>:49: FutureWarning: Pass y=[-0.00286865 -0.00283813 -0.00215149 ... -0.00689697 -0.00758362\n",
      " -0.00395203], sr=22050 as keyword args. From version 0.10 passing these as positional arguments will result in an error\n",
      "  mfcc = librosa.feature.mfcc(signal[start:finish], sample_rate, n_mfcc=num_mfcc, n_fft=n_fft, hop_length=hop_length)\n",
      "<ipython-input-26-43b8552c8af4>:49: FutureWarning: Pass y=[-0.0068512  -0.01034546 -0.01028442 ...  0.02403259  0.02766418\n",
      "  0.02394104], sr=22050 as keyword args. From version 0.10 passing these as positional arguments will result in an error\n",
      "  mfcc = librosa.feature.mfcc(signal[start:finish], sample_rate, n_mfcc=num_mfcc, n_fft=n_fft, hop_length=hop_length)\n",
      "<ipython-input-26-43b8552c8af4>:49: FutureWarning: Pass y=[ 0.02616882  0.02684021  0.02563477 ... -0.00094604 -0.00244141\n",
      "  0.00166321], sr=22050 as keyword args. From version 0.10 passing these as positional arguments will result in an error\n",
      "  mfcc = librosa.feature.mfcc(signal[start:finish], sample_rate, n_mfcc=num_mfcc, n_fft=n_fft, hop_length=hop_length)\n",
      "<ipython-input-26-43b8552c8af4>:49: FutureWarning: Pass y=[-0.0038147  -0.00216675  0.00125122 ...  0.00494385  0.00030518\n",
      " -0.00338745], sr=22050 as keyword args. From version 0.10 passing these as positional arguments will result in an error\n",
      "  mfcc = librosa.feature.mfcc(signal[start:finish], sample_rate, n_mfcc=num_mfcc, n_fft=n_fft, hop_length=hop_length)\n",
      "<ipython-input-26-43b8552c8af4>:49: FutureWarning: Pass y=[ 0.00038147  0.00035095 -0.00291443 ...  0.03297424  0.03379822\n",
      "  0.03572083], sr=22050 as keyword args. From version 0.10 passing these as positional arguments will result in an error\n",
      "  mfcc = librosa.feature.mfcc(signal[start:finish], sample_rate, n_mfcc=num_mfcc, n_fft=n_fft, hop_length=hop_length)\n",
      "<ipython-input-26-43b8552c8af4>:49: FutureWarning: Pass y=[ 0.03356934  0.0340271   0.0352478  ...  0.00332642  0.00062561\n",
      " -0.00080872], sr=22050 as keyword args. From version 0.10 passing these as positional arguments will result in an error\n",
      "  mfcc = librosa.feature.mfcc(signal[start:finish], sample_rate, n_mfcc=num_mfcc, n_fft=n_fft, hop_length=hop_length)\n"
     ]
    },
    {
     "name": "stdout",
     "output_type": "stream",
     "text": [
      "C:\\Users\\feliz\\Documents\\aprendiendo python rapido\\tesis\\cantos pajaritos\\Bengale Finches\\BF_T0000725.WAV, segment:6\n",
      "C:\\Users\\feliz\\Documents\\aprendiendo python rapido\\tesis\\cantos pajaritos\\Bengale Finches\\BF_T0000725.WAV, segment:7\n",
      "C:\\Users\\feliz\\Documents\\aprendiendo python rapido\\tesis\\cantos pajaritos\\Bengale Finches\\BF_T0000725.WAV, segment:8\n",
      "C:\\Users\\feliz\\Documents\\aprendiendo python rapido\\tesis\\cantos pajaritos\\Bengale Finches\\BF_T0000725.WAV, segment:9\n",
      "C:\\Users\\feliz\\Documents\\aprendiendo python rapido\\tesis\\cantos pajaritos\\Bengale Finches\\BF_T0000725.WAV, segment:10\n",
      "\n",
      "Processing: Brewys\n"
     ]
    },
    {
     "name": "stderr",
     "output_type": "stream",
     "text": [
      "<ipython-input-26-43b8552c8af4>:49: FutureWarning: Pass y=[0.00694955 0.00665647 0.00069984 ... 0.02668797 0.02534835 0.02668285], sr=22050 as keyword args. From version 0.10 passing these as positional arguments will result in an error\n",
      "  mfcc = librosa.feature.mfcc(signal[start:finish], sample_rate, n_mfcc=num_mfcc, n_fft=n_fft, hop_length=hop_length)\n",
      "<ipython-input-26-43b8552c8af4>:49: FutureWarning: Pass y=[0.02659936 0.02694922 0.02755706 ... 0.1479798  0.1375152  0.13262823], sr=22050 as keyword args. From version 0.10 passing these as positional arguments will result in an error\n",
      "  mfcc = librosa.feature.mfcc(signal[start:finish], sample_rate, n_mfcc=num_mfcc, n_fft=n_fft, hop_length=hop_length)\n",
      "<ipython-input-26-43b8552c8af4>:49: FutureWarning: Pass y=[0.1470048  0.14081657 0.1316092  ... 0.01297784 0.01291806 0.01259378], sr=22050 as keyword args. From version 0.10 passing these as positional arguments will result in an error\n",
      "  mfcc = librosa.feature.mfcc(signal[start:finish], sample_rate, n_mfcc=num_mfcc, n_fft=n_fft, hop_length=hop_length)\n",
      "<ipython-input-26-43b8552c8af4>:49: FutureWarning: Pass y=[0.01266718 0.01193077 0.01165318 ... 0.02783052 0.02744574 0.02858287], sr=22050 as keyword args. From version 0.10 passing these as positional arguments will result in an error\n",
      "  mfcc = librosa.feature.mfcc(signal[start:finish], sample_rate, n_mfcc=num_mfcc, n_fft=n_fft, hop_length=hop_length)\n",
      "<ipython-input-26-43b8552c8af4>:49: FutureWarning: Pass y=[], sr=22050 as keyword args. From version 0.10 passing these as positional arguments will result in an error\n",
      "  mfcc = librosa.feature.mfcc(signal[start:finish], sample_rate, n_mfcc=num_mfcc, n_fft=n_fft, hop_length=hop_length)\n"
     ]
    },
    {
     "name": "stdout",
     "output_type": "stream",
     "text": [
      "C:\\Users\\feliz\\Documents\\aprendiendo python rapido\\tesis\\cantos pajaritos\\Brewys\\bw19_T0000337.WAV, segment:1\n",
      "C:\\Users\\feliz\\Documents\\aprendiendo python rapido\\tesis\\cantos pajaritos\\Brewys\\bw19_T0000337.WAV, segment:2\n",
      "C:\\Users\\feliz\\Documents\\aprendiendo python rapido\\tesis\\cantos pajaritos\\Brewys\\bw19_T0000337.WAV, segment:3\n"
     ]
    },
    {
     "name": "stderr",
     "output_type": "stream",
     "text": [
      "<ipython-input-26-43b8552c8af4>:49: FutureWarning: Pass y=[ 0.01195433  0.01904667  0.01555943 ... -0.00642542 -0.00701369\n",
      " -0.00650409], sr=22050 as keyword args. From version 0.10 passing these as positional arguments will result in an error\n",
      "  mfcc = librosa.feature.mfcc(signal[start:finish], sample_rate, n_mfcc=num_mfcc, n_fft=n_fft, hop_length=hop_length)\n",
      "<ipython-input-26-43b8552c8af4>:49: FutureWarning: Pass y=[-0.00617875 -0.00678087 -0.00605561 ...  0.02609706  0.02468828\n",
      "  0.02446396], sr=22050 as keyword args. From version 0.10 passing these as positional arguments will result in an error\n",
      "  mfcc = librosa.feature.mfcc(signal[start:finish], sample_rate, n_mfcc=num_mfcc, n_fft=n_fft, hop_length=hop_length)\n",
      "<ipython-input-26-43b8552c8af4>:49: FutureWarning: Pass y=[0.02620368 0.02529032 0.02547155 ... 0.03046402 0.03082871 0.03070443], sr=22050 as keyword args. From version 0.10 passing these as positional arguments will result in an error\n",
      "  mfcc = librosa.feature.mfcc(signal[start:finish], sample_rate, n_mfcc=num_mfcc, n_fft=n_fft, hop_length=hop_length)\n",
      "<ipython-input-26-43b8552c8af4>:49: FutureWarning: Pass y=[0.03052379 0.03085952 0.03063063 ... 0.02357347 0.023335   0.02513377], sr=22050 as keyword args. From version 0.10 passing these as positional arguments will result in an error\n",
      "  mfcc = librosa.feature.mfcc(signal[start:finish], sample_rate, n_mfcc=num_mfcc, n_fft=n_fft, hop_length=hop_length)\n"
     ]
    },
    {
     "name": "stdout",
     "output_type": "stream",
     "text": [
      "C:\\Users\\feliz\\Documents\\aprendiendo python rapido\\tesis\\cantos pajaritos\\Brewys\\bw19_T0000457.WAV, segment:1\n",
      "C:\\Users\\feliz\\Documents\\aprendiendo python rapido\\tesis\\cantos pajaritos\\Brewys\\bw19_T0000457.WAV, segment:2\n",
      "C:\\Users\\feliz\\Documents\\aprendiendo python rapido\\tesis\\cantos pajaritos\\Brewys\\bw19_T0000457.WAV, segment:3\n",
      "\n",
      "Processing: canaries\n",
      "\n",
      "Processing: Cowbirds\n"
     ]
    },
    {
     "name": "stderr",
     "output_type": "stream",
     "text": [
      "<ipython-input-26-43b8552c8af4>:49: FutureWarning: Pass y=[0.00668179 0.00839611 0.00748553 ... 0.0020734  0.00265186 0.01631752], sr=22050 as keyword args. From version 0.10 passing these as positional arguments will result in an error\n",
      "  mfcc = librosa.feature.mfcc(signal[start:finish], sample_rate, n_mfcc=num_mfcc, n_fft=n_fft, hop_length=hop_length)\n",
      "<ipython-input-26-43b8552c8af4>:49: FutureWarning: Pass y=[0.03133445 0.05056494 0.06614313 ... 0.01251144 0.0125932  0.01288516], sr=22050 as keyword args. From version 0.10 passing these as positional arguments will result in an error\n",
      "  mfcc = librosa.feature.mfcc(signal[start:finish], sample_rate, n_mfcc=num_mfcc, n_fft=n_fft, hop_length=hop_length)\n",
      "<ipython-input-26-43b8552c8af4>:49: FutureWarning: Pass y=[0.01276638 0.0122735  0.0117875  ... 0.00662582 0.00684906 0.        ], sr=22050 as keyword args. From version 0.10 passing these as positional arguments will result in an error\n",
      "  mfcc = librosa.feature.mfcc(signal[start:finish], sample_rate, n_mfcc=num_mfcc, n_fft=n_fft, hop_length=hop_length)\n"
     ]
    },
    {
     "name": "stdout",
     "output_type": "stream",
     "text": [
      "C:\\Users\\feliz\\Documents\\aprendiendo python rapido\\tesis\\cantos pajaritos\\Cowbirds\\cb_T0000010.WAV, segment:1\n",
      "C:\\Users\\feliz\\Documents\\aprendiendo python rapido\\tesis\\cantos pajaritos\\Cowbirds\\cb_T0000010.WAV, segment:2\n",
      "\n",
      "Processing: Robins\n"
     ]
    },
    {
     "name": "stderr",
     "output_type": "stream",
     "text": [
      "<ipython-input-26-43b8552c8af4>:49: FutureWarning: Pass y=[0.02340501 0.02339608 0.00813165 ... 0.12052779 0.13460691 0.15729755], sr=22050 as keyword args. From version 0.10 passing these as positional arguments will result in an error\n",
      "  mfcc = librosa.feature.mfcc(signal[start:finish], sample_rate, n_mfcc=num_mfcc, n_fft=n_fft, hop_length=hop_length)\n",
      "<ipython-input-26-43b8552c8af4>:49: FutureWarning: Pass y=[0.17553003 0.18411362 0.18001206 ... 0.02989301 0.0298218  0.0299612 ], sr=22050 as keyword args. From version 0.10 passing these as positional arguments will result in an error\n",
      "  mfcc = librosa.feature.mfcc(signal[start:finish], sample_rate, n_mfcc=num_mfcc, n_fft=n_fft, hop_length=hop_length)\n",
      "<ipython-input-26-43b8552c8af4>:49: FutureWarning: Pass y=[0.03092556 0.03067739 0.02981532 ... 0.06435748 0.12314489 0.18956688], sr=22050 as keyword args. From version 0.10 passing these as positional arguments will result in an error\n",
      "  mfcc = librosa.feature.mfcc(signal[start:finish], sample_rate, n_mfcc=num_mfcc, n_fft=n_fft, hop_length=hop_length)\n",
      "<ipython-input-26-43b8552c8af4>:49: FutureWarning: Pass y=[0.23766118 0.2506809  0.22577736 ... 0.02608515 0.02644226 0.02692531], sr=22050 as keyword args. From version 0.10 passing these as positional arguments will result in an error\n",
      "  mfcc = librosa.feature.mfcc(signal[start:finish], sample_rate, n_mfcc=num_mfcc, n_fft=n_fft, hop_length=hop_length)\n",
      "<ipython-input-26-43b8552c8af4>:49: FutureWarning: Pass y=[0.02725773 0.02686692 0.02728324 ... 0.02512643 0.02510515 0.02584934], sr=22050 as keyword args. From version 0.10 passing these as positional arguments will result in an error\n",
      "  mfcc = librosa.feature.mfcc(signal[start:finish], sample_rate, n_mfcc=num_mfcc, n_fft=n_fft, hop_length=hop_length)\n",
      "<ipython-input-26-43b8552c8af4>:49: FutureWarning: Pass y=[0.0261052  0.02565166 0.02567292 ... 0.0226993  0.02261312 0.02281983], sr=22050 as keyword args. From version 0.10 passing these as positional arguments will result in an error\n",
      "  mfcc = librosa.feature.mfcc(signal[start:finish], sample_rate, n_mfcc=num_mfcc, n_fft=n_fft, hop_length=hop_length)\n",
      "<ipython-input-26-43b8552c8af4>:49: FutureWarning: Pass y=[0.0233055  0.02276712 0.02274348 ... 0.12819555 0.13135393 0.11831149], sr=22050 as keyword args. From version 0.10 passing these as positional arguments will result in an error\n",
      "  mfcc = librosa.feature.mfcc(signal[start:finish], sample_rate, n_mfcc=num_mfcc, n_fft=n_fft, hop_length=hop_length)\n",
      "<ipython-input-26-43b8552c8af4>:49: FutureWarning: Pass y=[0.09846981 0.0872475  0.0905481  ... 0.03187746 0.03222118 0.03203663], sr=22050 as keyword args. From version 0.10 passing these as positional arguments will result in an error\n",
      "  mfcc = librosa.feature.mfcc(signal[start:finish], sample_rate, n_mfcc=num_mfcc, n_fft=n_fft, hop_length=hop_length)\n",
      "<ipython-input-26-43b8552c8af4>:49: FutureWarning: Pass y=[0.03212026 0.03190102 0.0313521  ... 0.13740458 0.1162686  0.13197398], sr=22050 as keyword args. From version 0.10 passing these as positional arguments will result in an error\n",
      "  mfcc = librosa.feature.mfcc(signal[start:finish], sample_rate, n_mfcc=num_mfcc, n_fft=n_fft, hop_length=hop_length)\n",
      "<ipython-input-26-43b8552c8af4>:49: FutureWarning: Pass y=[0.14939184 0.19121484 0.26236722 ... 0.03117026 0.0312876  0.03097443], sr=22050 as keyword args. From version 0.10 passing these as positional arguments will result in an error\n",
      "  mfcc = librosa.feature.mfcc(signal[start:finish], sample_rate, n_mfcc=num_mfcc, n_fft=n_fft, hop_length=hop_length)\n"
     ]
    },
    {
     "name": "stdout",
     "output_type": "stream",
     "text": [
      "C:\\Users\\feliz\\Documents\\aprendiendo python rapido\\tesis\\cantos pajaritos\\Robins\\robin_T0000106.WAV, segment:1\n",
      "C:\\Users\\feliz\\Documents\\aprendiendo python rapido\\tesis\\cantos pajaritos\\Robins\\robin_T0000106.WAV, segment:2\n",
      "C:\\Users\\feliz\\Documents\\aprendiendo python rapido\\tesis\\cantos pajaritos\\Robins\\robin_T0000106.WAV, segment:3\n",
      "C:\\Users\\feliz\\Documents\\aprendiendo python rapido\\tesis\\cantos pajaritos\\Robins\\robin_T0000106.WAV, segment:4\n",
      "C:\\Users\\feliz\\Documents\\aprendiendo python rapido\\tesis\\cantos pajaritos\\Robins\\robin_T0000106.WAV, segment:5\n",
      "C:\\Users\\feliz\\Documents\\aprendiendo python rapido\\tesis\\cantos pajaritos\\Robins\\robin_T0000106.WAV, segment:6\n",
      "C:\\Users\\feliz\\Documents\\aprendiendo python rapido\\tesis\\cantos pajaritos\\Robins\\robin_T0000106.WAV, segment:7\n",
      "C:\\Users\\feliz\\Documents\\aprendiendo python rapido\\tesis\\cantos pajaritos\\Robins\\robin_T0000106.WAV, segment:8\n",
      "C:\\Users\\feliz\\Documents\\aprendiendo python rapido\\tesis\\cantos pajaritos\\Robins\\robin_T0000106.WAV, segment:9\n",
      "C:\\Users\\feliz\\Documents\\aprendiendo python rapido\\tesis\\cantos pajaritos\\Robins\\robin_T0000106.WAV, segment:10\n"
     ]
    },
    {
     "name": "stderr",
     "output_type": "stream",
     "text": [
      "<ipython-input-26-43b8552c8af4>:49: FutureWarning: Pass y=[-0.03529967 -0.046308   -0.0410002  ...  0.0048512   0.00496371\n",
      "  0.00503509], sr=22050 as keyword args. From version 0.10 passing these as positional arguments will result in an error\n",
      "  mfcc = librosa.feature.mfcc(signal[start:finish], sample_rate, n_mfcc=num_mfcc, n_fft=n_fft, hop_length=hop_length)\n",
      "<ipython-input-26-43b8552c8af4>:49: FutureWarning: Pass y=[0.00457906 0.00488108 0.00498006 ... 0.01530183 0.01149125 0.00566767], sr=22050 as keyword args. From version 0.10 passing these as positional arguments will result in an error\n",
      "  mfcc = librosa.feature.mfcc(signal[start:finish], sample_rate, n_mfcc=num_mfcc, n_fft=n_fft, hop_length=hop_length)\n",
      "<ipython-input-26-43b8552c8af4>:49: FutureWarning: Pass y=[-0.00033186 -0.00477319 -0.00531157 ... -0.04442316 -0.04463784\n",
      " -0.04455053], sr=22050 as keyword args. From version 0.10 passing these as positional arguments will result in an error\n",
      "  mfcc = librosa.feature.mfcc(signal[start:finish], sample_rate, n_mfcc=num_mfcc, n_fft=n_fft, hop_length=hop_length)\n",
      "<ipython-input-26-43b8552c8af4>:49: FutureWarning: Pass y=[-0.04444677 -0.04493521 -0.04488475 ... -0.04501033 -0.04512062\n",
      " -0.04508317], sr=22050 as keyword args. From version 0.10 passing these as positional arguments will result in an error\n",
      "  mfcc = librosa.feature.mfcc(signal[start:finish], sample_rate, n_mfcc=num_mfcc, n_fft=n_fft, hop_length=hop_length)\n",
      "<ipython-input-26-43b8552c8af4>:49: FutureWarning: Pass y=[-0.04504102 -0.04510494 -0.04502896 ...  0.01271098  0.01276399\n",
      "  0.01279203], sr=22050 as keyword args. From version 0.10 passing these as positional arguments will result in an error\n",
      "  mfcc = librosa.feature.mfcc(signal[start:finish], sample_rate, n_mfcc=num_mfcc, n_fft=n_fft, hop_length=hop_length)\n",
      "<ipython-input-26-43b8552c8af4>:49: FutureWarning: Pass y=[ 0.01289757  0.01291246  0.01282951 ... -0.06334506 -0.06343035\n",
      " -0.06370603], sr=22050 as keyword args. From version 0.10 passing these as positional arguments will result in an error\n",
      "  mfcc = librosa.feature.mfcc(signal[start:finish], sample_rate, n_mfcc=num_mfcc, n_fft=n_fft, hop_length=hop_length)\n",
      "<ipython-input-26-43b8552c8af4>:49: FutureWarning: Pass y=[-0.06348152 -0.06327727 -0.06326953 ... -0.01087955 -0.01087959\n",
      " -0.01096591], sr=22050 as keyword args. From version 0.10 passing these as positional arguments will result in an error\n",
      "  mfcc = librosa.feature.mfcc(signal[start:finish], sample_rate, n_mfcc=num_mfcc, n_fft=n_fft, hop_length=hop_length)\n",
      "<ipython-input-26-43b8552c8af4>:49: FutureWarning: Pass y=[-0.01135274 -0.01141319 -0.01167487 ...  0.03183163  0.03221878\n",
      "  0.03227719], sr=22050 as keyword args. From version 0.10 passing these as positional arguments will result in an error\n",
      "  mfcc = librosa.feature.mfcc(signal[start:finish], sample_rate, n_mfcc=num_mfcc, n_fft=n_fft, hop_length=hop_length)\n"
     ]
    },
    {
     "name": "stdout",
     "output_type": "stream",
     "text": [
      "C:\\Users\\feliz\\Documents\\aprendiendo python rapido\\tesis\\cantos pajaritos\\Robins\\robin_T0001691.WAV, segment:1\n",
      "C:\\Users\\feliz\\Documents\\aprendiendo python rapido\\tesis\\cantos pajaritos\\Robins\\robin_T0001691.WAV, segment:2\n",
      "C:\\Users\\feliz\\Documents\\aprendiendo python rapido\\tesis\\cantos pajaritos\\Robins\\robin_T0001691.WAV, segment:3\n",
      "C:\\Users\\feliz\\Documents\\aprendiendo python rapido\\tesis\\cantos pajaritos\\Robins\\robin_T0001691.WAV, segment:4\n",
      "C:\\Users\\feliz\\Documents\\aprendiendo python rapido\\tesis\\cantos pajaritos\\Robins\\robin_T0001691.WAV, segment:5\n",
      "C:\\Users\\feliz\\Documents\\aprendiendo python rapido\\tesis\\cantos pajaritos\\Robins\\robin_T0001691.WAV, segment:6\n",
      "C:\\Users\\feliz\\Documents\\aprendiendo python rapido\\tesis\\cantos pajaritos\\Robins\\robin_T0001691.WAV, segment:7\n",
      "C:\\Users\\feliz\\Documents\\aprendiendo python rapido\\tesis\\cantos pajaritos\\Robins\\robin_T0001691.WAV, segment:8\n",
      "C:\\Users\\feliz\\Documents\\aprendiendo python rapido\\tesis\\cantos pajaritos\\Robins\\robin_T0001691.WAV, segment:9\n"
     ]
    },
    {
     "name": "stderr",
     "output_type": "stream",
     "text": [
      "<ipython-input-26-43b8552c8af4>:49: FutureWarning: Pass y=[0.03199312 0.03211095 0.03213167 ... 0.04984057 0.04991063 0.04973545], sr=22050 as keyword args. From version 0.10 passing these as positional arguments will result in an error\n",
      "  mfcc = librosa.feature.mfcc(signal[start:finish], sample_rate, n_mfcc=num_mfcc, n_fft=n_fft, hop_length=hop_length)\n",
      "<ipython-input-26-43b8552c8af4>:49: FutureWarning: Pass y=[ 0.04968226  0.04964534  0.04948818 ... -0.05140223 -0.05167684\n",
      " -0.05165967], sr=22050 as keyword args. From version 0.10 passing these as positional arguments will result in an error\n",
      "  mfcc = librosa.feature.mfcc(signal[start:finish], sample_rate, n_mfcc=num_mfcc, n_fft=n_fft, hop_length=hop_length)\n"
     ]
    },
    {
     "name": "stdout",
     "output_type": "stream",
     "text": [
      "C:\\Users\\feliz\\Documents\\aprendiendo python rapido\\tesis\\cantos pajaritos\\Robins\\robin_T0001691.WAV, segment:10\n",
      "\n",
      "Processing: Starlings\n"
     ]
    },
    {
     "name": "stderr",
     "output_type": "stream",
     "text": [
      "<ipython-input-26-43b8552c8af4>:49: FutureWarning: Pass y=[-0.02117853 -0.02780251 -0.02412055 ... -0.02295379 -0.0227837\n",
      " -0.02321513], sr=22050 as keyword args. From version 0.10 passing these as positional arguments will result in an error\n",
      "  mfcc = librosa.feature.mfcc(signal[start:finish], sample_rate, n_mfcc=num_mfcc, n_fft=n_fft, hop_length=hop_length)\n",
      "<ipython-input-26-43b8552c8af4>:49: FutureWarning: Pass y=[-0.02220606 -0.02164583 -0.02152697 ... -0.01613821 -0.01613219\n",
      " -0.015533  ], sr=22050 as keyword args. From version 0.10 passing these as positional arguments will result in an error\n",
      "  mfcc = librosa.feature.mfcc(signal[start:finish], sample_rate, n_mfcc=num_mfcc, n_fft=n_fft, hop_length=hop_length)\n",
      "<ipython-input-26-43b8552c8af4>:49: FutureWarning: Pass y=[-0.0147431  -0.01310132 -0.00971118 ...  0.00116596  0.0021885\n",
      "  0.00238542], sr=22050 as keyword args. From version 0.10 passing these as positional arguments will result in an error\n",
      "  mfcc = librosa.feature.mfcc(signal[start:finish], sample_rate, n_mfcc=num_mfcc, n_fft=n_fft, hop_length=hop_length)\n",
      "<ipython-input-26-43b8552c8af4>:49: FutureWarning: Pass y=[ 2.2239434e-03  1.1840647e-03  4.7038717e-05 ... -2.1344231e-02\n",
      " -2.1739637e-02 -2.2080123e-02], sr=22050 as keyword args. From version 0.10 passing these as positional arguments will result in an error\n",
      "  mfcc = librosa.feature.mfcc(signal[start:finish], sample_rate, n_mfcc=num_mfcc, n_fft=n_fft, hop_length=hop_length)\n",
      "<ipython-input-26-43b8552c8af4>:49: FutureWarning: Pass y=[-0.02282725 -0.02337639 -0.02364066 ...  0.01255802  0.00897972\n",
      "  0.00533916], sr=22050 as keyword args. From version 0.10 passing these as positional arguments will result in an error\n",
      "  mfcc = librosa.feature.mfcc(signal[start:finish], sample_rate, n_mfcc=num_mfcc, n_fft=n_fft, hop_length=hop_length)\n",
      "<ipython-input-26-43b8552c8af4>:49: FutureWarning: Pass y=[ 0.00208019 -0.00029931 -0.00144713 ...  0.00032419  0.0044968\n",
      "  0.00454707], sr=22050 as keyword args. From version 0.10 passing these as positional arguments will result in an error\n",
      "  mfcc = librosa.feature.mfcc(signal[start:finish], sample_rate, n_mfcc=num_mfcc, n_fft=n_fft, hop_length=hop_length)\n",
      "<ipython-input-26-43b8552c8af4>:49: FutureWarning: Pass y=[ 0.00241505  0.00015724 -0.00037346 ... -0.01014248 -0.01005609\n",
      " -0.00649193], sr=22050 as keyword args. From version 0.10 passing these as positional arguments will result in an error\n",
      "  mfcc = librosa.feature.mfcc(signal[start:finish], sample_rate, n_mfcc=num_mfcc, n_fft=n_fft, hop_length=hop_length)\n",
      "<ipython-input-26-43b8552c8af4>:49: FutureWarning: Pass y=[ 0.00049243  0.0030653  -0.00106195 ... -0.02172288 -0.02081043\n",
      " -0.0211572 ], sr=22050 as keyword args. From version 0.10 passing these as positional arguments will result in an error\n",
      "  mfcc = librosa.feature.mfcc(signal[start:finish], sample_rate, n_mfcc=num_mfcc, n_fft=n_fft, hop_length=hop_length)\n"
     ]
    },
    {
     "name": "stdout",
     "output_type": "stream",
     "text": [
      "C:\\Users\\feliz\\Documents\\aprendiendo python rapido\\tesis\\cantos pajaritos\\Starlings\\st_T0000029.WAV, segment:1\n",
      "C:\\Users\\feliz\\Documents\\aprendiendo python rapido\\tesis\\cantos pajaritos\\Starlings\\st_T0000029.WAV, segment:2\n",
      "C:\\Users\\feliz\\Documents\\aprendiendo python rapido\\tesis\\cantos pajaritos\\Starlings\\st_T0000029.WAV, segment:3\n",
      "C:\\Users\\feliz\\Documents\\aprendiendo python rapido\\tesis\\cantos pajaritos\\Starlings\\st_T0000029.WAV, segment:4\n",
      "C:\\Users\\feliz\\Documents\\aprendiendo python rapido\\tesis\\cantos pajaritos\\Starlings\\st_T0000029.WAV, segment:5\n",
      "C:\\Users\\feliz\\Documents\\aprendiendo python rapido\\tesis\\cantos pajaritos\\Starlings\\st_T0000029.WAV, segment:6\n",
      "C:\\Users\\feliz\\Documents\\aprendiendo python rapido\\tesis\\cantos pajaritos\\Starlings\\st_T0000029.WAV, segment:7\n",
      "C:\\Users\\feliz\\Documents\\aprendiendo python rapido\\tesis\\cantos pajaritos\\Starlings\\st_T0000029.WAV, segment:8\n"
     ]
    },
    {
     "name": "stderr",
     "output_type": "stream",
     "text": [
      "<ipython-input-26-43b8552c8af4>:49: FutureWarning: Pass y=[-0.02145111 -0.02093925 -0.01912397 -0.01801318 -0.01786998 -0.01775702\n",
      " -0.01802318 -0.01896673 -0.01988664 -0.02104179 -0.02182529 -0.02078303\n",
      " -0.02066607 -0.02187941 -0.02295833 -0.02376697 -0.02406412 -0.02402084\n",
      " -0.02428546 -0.02412882 -0.02354059 -0.0232736  -0.02290892 -0.02266091\n",
      " -0.02272034 -0.02351897 -0.02372379 -0.02322884 -0.02365074 -0.02382467\n",
      " -0.0231827  -0.02225841 -0.02169145 -0.02165798 -0.02212326 -0.02248302\n",
      " -0.02257634 -0.02315134 -0.02343841 -0.02319847 -0.02198972 -0.02111242\n",
      " -0.02069519 -0.02006906 -0.02016408 -0.01996068 -0.01930696 -0.01939089\n",
      " -0.0211192  -0.0222842  -0.02210413 -0.02236775 -0.02265354 -0.02290669\n",
      " -0.02312038 -0.02300061 -0.02260442 -0.02202425 -0.02246193 -0.02220107\n",
      " -0.02123139 -0.02163278 -0.0220437  -0.02295494 -0.02383384 -0.02429296\n",
      " -0.02474611 -0.0241279  -0.02339537 -0.02321943 -0.02280305 -0.02230849\n",
      " -0.02107072 -0.01963992 -0.01960759 -0.01992608 -0.02064808 -0.02087605\n",
      " -0.02090314 -0.02166253 -0.02237124 -0.02297179 -0.02258944 -0.02169868\n",
      " -0.02137206 -0.02119251 -0.02088818 -0.02092533 -0.02122476 -0.02120687\n",
      " -0.01996    -0.01877035 -0.01891227 -0.01914917 -0.0178546  -0.01695273\n",
      " -0.01774085 -0.01838251 -0.01916865 -0.01951919 -0.02017645 -0.02096806\n",
      " -0.0211496  -0.02111895 -0.02130615 -0.02218326 -0.02217513 -0.02117746\n",
      " -0.02030598 -0.02041112 -0.02066526 -0.02027466 -0.02031475 -0.02079126\n",
      " -0.02111303 -0.02140703 -0.02138659 -0.02186422 -0.02229703 -0.02185676\n",
      " -0.02182296 -0.02157708 -0.02081961 -0.02091658 -0.02098734 -0.02062849\n",
      " -0.02044862 -0.01876188 -0.01743597 -0.01753387 -0.01828345 -0.01907587\n",
      " -0.01818644 -0.01684626 -0.01661958 -0.01720091 -0.01743538 -0.01789984\n",
      " -0.01832307 -0.01940106 -0.02071234 -0.02058399 -0.02113557 -0.02211254\n",
      " -0.02262215 -0.02305447 -0.02325662 -0.02373377 -0.02440462 -0.02470882\n",
      " -0.02455992 -0.02425461 -0.02420697 -0.0240857  -0.02408593 -0.02484492\n",
      " -0.0254267  -0.02547485 -0.0254622  -0.02505085 -0.02487763 -0.02607458\n",
      " -0.02731058 -0.02780041 -0.02811203 -0.02819244 -0.02842368 -0.02788256\n",
      " -0.02692695 -0.02613899 -0.02525995 -0.02481991 -0.02442847 -0.02456648\n",
      " -0.02472482 -0.02504695 -0.02587456 -0.0262328  -0.02647592 -0.02658927\n",
      " -0.02660533 -0.02828711 -0.03028617 -0.02974438 -0.02920418 -0.02949408\n",
      " -0.02973433 -0.03041252 -0.0306078  -0.03004077 -0.02881816 -0.02749808\n",
      " -0.02646058 -0.02548357 -0.02473381 -0.02302089 -0.02130488 -0.02244753\n",
      " -0.02357243 -0.022995   -0.02265167 -0.02174188 -0.0216086  -0.02094941\n",
      " -0.01826111 -0.01771546 -0.01892776 -0.02019559 -0.02166421 -0.02351041\n",
      " -0.02488328 -0.02521866 -0.02540911 -0.02536088 -0.0248956  -0.02458489\n",
      " -0.02425673 -0.02395821 -0.02378618 -0.02309795 -0.02322633 -0.02329289\n",
      " -0.02348108 -0.02002625 -0.01424748 -0.01426361 -0.01679426 -0.0191702\n",
      " -0.02123572 -0.02238265 -0.02302312 -0.02342578 -0.02439539 -0.02512514\n",
      " -0.02516887 -0.02470011 -0.0244338  -0.02401517 -0.0236913  -0.0238245\n",
      " -0.02444195 -0.02523328 -0.02472842 -0.02460491 -0.01985678 -0.01359124\n",
      " -0.01393743 -0.01559289 -0.0174593  -0.01910971 -0.0205351  -0.02243026\n",
      " -0.02353371 -0.02495812 -0.02600318 -0.02606986 -0.02626879 -0.0265574\n",
      " -0.02618108 -0.02592785 -0.02539321 -0.02472087 -0.0251057  -0.02494773\n",
      " -0.02453032 -0.02467019 -0.02410649 -0.02317291 -0.02312223 -0.02329686\n",
      " -0.02324349 -0.02365193 -0.02387853 -0.0247525  -0.02543853 -0.02509145\n",
      " -0.02486522 -0.02493527 -0.02503232 -0.02439407 -0.02433247 -0.02421297\n",
      " -0.0228119  -0.02221612 -0.02259338 -0.02275198 -0.02304482 -0.0237938\n",
      " -0.02461613 -0.02585173 -0.02625858 -0.02574195 -0.02508383 -0.02358389\n",
      " -0.02320581 -0.02352186 -0.02358533 -0.02323721 -0.02301612 -0.02376171\n",
      " -0.02365116 -0.02338027 -0.02354382 -0.02367279 -0.02331128 -0.02318648\n",
      " -0.02396951 -0.02440595 -0.02456526 -0.02479162 -0.02522063 -0.02563259\n",
      " -0.0252837  -0.02508586 -0.02539516 -0.024818   -0.02549906 -0.02739206\n",
      " -0.02857448 -0.02937423 -0.02929587 -0.02956194 -0.02881356 -0.02734688\n",
      " -0.02623426 -0.02435959 -0.02316886 -0.02258765 -0.02212787 -0.02139593\n",
      " -0.0210857  -0.02167486 -0.02182357 -0.02184438 -0.02187725 -0.02159067\n",
      " -0.02179993 -0.0217251  -0.02115378 -0.02089519 -0.02094008 -0.02148629\n",
      " -0.02227394 -0.02363922 -0.0249128  -0.02644038 -0.0281622  -0.02857837\n",
      " -0.02847454 -0.02740085 -0.02517779 -0.02311046 -0.02140052 -0.01962682\n",
      " -0.01748231 -0.016111   -0.01578129 -0.01574388 -0.01663871 -0.01775526\n",
      " -0.01851997 -0.02011153 -0.02122471 -0.02155646 -0.02221262 -0.02192751\n",
      " -0.02147438 -0.02147139 -0.0219253  -0.02275769 -0.02259365 -0.02229627\n",
      " -0.02284443 -0.02324288 -0.02275308 -0.02192311 -0.02133902 -0.02154585\n",
      " -0.02181714 -0.0217233  -0.02163009 -0.02151856 -0.0209007  -0.02043851\n",
      " -0.02061055 -0.02035057 -0.02037694 -0.02136311 -0.02345877 -0.02587328\n",
      " -0.02727769 -0.0270294  -0.02619568 -0.02481245 -0.02375816 -0.02279841\n",
      " -0.02114129 -0.01939334 -0.01540421 -0.01253648 -0.01157823 -0.01143567\n",
      " -0.01205252 -0.01235425 -0.01424252 -0.01613305 -0.01775523 -0.01946707\n",
      " -0.02091332 -0.02170692 -0.02168315 -0.02171452 -0.02199006 -0.02248131\n",
      " -0.02245553 -0.02303989 -0.02344731 -0.02324694 -0.02270625 -0.02207569\n",
      " -0.02260955 -0.02310145 -0.02409656 -0.02524706 -0.02536106 -0.02502829\n",
      " -0.02496677 -0.02501631 -0.02417073 -0.02328242 -0.0227086  -0.02183018\n",
      " -0.0210839  -0.02108509 -0.0210822  -0.02082597 -0.02146603 -0.02235103\n",
      " -0.02265558 -0.02246502 -0.02253193 -0.02273213 -0.02326021 -0.02500575\n",
      " -0.02663348 -0.02776113 -0.02801213 -0.02656493 -0.02436147 -0.02267089\n",
      " -0.02051835 -0.01876257 -0.01789843 -0.01663322 -0.01662347 -0.0177073\n",
      " -0.01916024 -0.01997377 -0.0204106  -0.02177464 -0.02246237 -0.02230266\n",
      " -0.02238088 -0.02382257 -0.02615619 -0.02749294 -0.02744871 -0.02720122\n",
      " -0.02709362 -0.02587547 -0.02524912 -0.02396595 -0.02082077 -0.01910517\n",
      " -0.01890605 -0.01920304 -0.01962244 -0.0200475  -0.02017624 -0.02035948\n",
      " -0.02041266 -0.02019493 -0.02022099 -0.02099944 -0.02303449 -0.02523722\n",
      " -0.02669742 -0.02686527 -0.02549949 -0.02378659 -0.02304495 -0.02188911\n",
      " -0.02019723 -0.01983596 -0.02005625 -0.02045388 -0.02143355 -0.02240337\n",
      " -0.02408666 -0.02585134 -0.02642606 -0.0265296  -0.02593622 -0.02543412\n",
      " -0.02536089 -0.02409639 -0.02252566 -0.02158313 -0.02097796 -0.02094308\n",
      " -0.02105977 -0.02162638 -0.02270593 -0.02411196 -0.02562642 -0.02640333\n",
      " -0.026593   -0.02676013 -0.02634171 -0.02461416 -0.02230856 -0.02014516\n",
      " -0.01884207 -0.01818952 -0.01745934 -0.01775334 -0.01834531 -0.01832237\n",
      " -0.019115   -0.02045134 -0.02205983 -0.02301759 -0.02330879 -0.02389327\n",
      " -0.02400754 -0.02394393 -0.02347139 -0.02287831 -0.02270803 -0.02251037\n",
      " -0.02242214 -0.02241123 -0.02220624 -0.02256539 -0.02259418 -0.02194424\n",
      " -0.0219209  -0.0215194  -0.02112882 -0.02184773 -0.02244411 -0.02240603\n",
      " -0.02270109 -0.02298549 -0.02377408 -0.0248927  -0.02515614 -0.02576428\n",
      " -0.02605496 -0.02485383 -0.02390799 -0.02368894 -0.02343008 -0.02310491\n",
      " -0.02210914 -0.02164908 -0.02254646 -0.02403521 -0.0264532  -0.02836994\n",
      " -0.0287307  -0.02888073 -0.02756126 -0.02546686 -0.02452449 -0.0237085\n",
      " -0.02428971 -0.02502474 -0.02484606 -0.02489039 -0.02442466 -0.02528336\n",
      " -0.02707203 -0.0267864  -0.02611382 -0.02559803 -0.02410932 -0.02313913\n",
      " -0.02220192 -0.0213779  -0.02105042 -0.02082867 -0.02121169 -0.0215011\n",
      " -0.02125486 -0.02202103 -0.02346718 -0.02410707 -0.0246909  -0.02441151\n",
      " -0.02384435 -0.02328103 -0.02252208 -0.02262312 -0.02174534 -0.0209122\n",
      " -0.02071357 -0.02055072 -0.02099875 -0.01926845 -0.01801711 -0.01887802\n",
      " -0.01993328 -0.02180323 -0.0226138  -0.02333626 -0.02418319 -0.02449636\n",
      " -0.02460768 -0.02397836 -0.02333541 -0.02319307 -0.02458321 -0.02565371\n",
      " -0.02580587 -0.02648225 -0.0263698  -0.02536837 -0.02374215 -0.02245252\n",
      " -0.02150755 -0.02002184 -0.01862465 -0.01737317 -0.0167166  -0.01692513\n",
      " -0.01794305 -0.01834108 -0.0187119  -0.01936414 -0.01894815 -0.01846058\n",
      " -0.01875906 -0.01981753 -0.02041772 -0.02107822 -0.02157092 -0.02173399\n",
      " -0.02167587 -0.02175001 -0.02205993 -0.0217944  -0.02264797 -0.02367949\n",
      " -0.02463113 -0.02540728 -0.02596761 -0.02622708 -0.02553185 -0.02513952\n",
      " -0.02415536 -0.02358097 -0.02391071 -0.02458344 -0.02507065 -0.02471257\n",
      " -0.02510111 -0.02573357 -0.02588415 -0.02595621 -0.02544019 -0.02515982\n",
      " -0.02532416 -0.02600956 -0.02802189 -0.02946828 -0.03116171 -0.03233154\n",
      " -0.03111515 -0.02891418 -0.02624548 -0.02380258 -0.02159083 -0.02014568\n",
      " -0.01817778 -0.01688526 -0.01789895 -0.01907134 -0.020809   -0.02253916\n",
      " -0.02351554 -0.02383566 -0.02337474 -0.02299444 -0.02250232 -0.0222997\n",
      " -0.02275766 -0.0235741  -0.02468398 -0.02528748 -0.02512561 -0.02426186\n",
      " -0.02264671 -0.02095139 -0.02013294 -0.01999783 -0.02008274 -0.02035328\n",
      " -0.02052189 -0.02038681 -0.02018229 -0.02070882 -0.02107944 -0.02090614\n",
      " -0.02148305 -0.02252042 -0.02313273 -0.02256468 -0.02252559 -0.02292534\n",
      " -0.02296829 -0.02383171 -0.02398562 -0.02382604 -0.02415088 -0.02472609\n",
      " -0.02450251 -0.02375315 -0.02323708 -0.02252138 -0.02220434 -0.02185303\n",
      " -0.02198048 -0.02198422 -0.02133766 -0.01978972 -0.01855637 -0.01852958\n",
      " -0.01890389 -0.01921789 -0.01933848 -0.02006284 -0.02043523 -0.02119383\n",
      " -0.02208124 -0.02388127 -0.02507154 -0.02526965 -0.02660833 -0.02658202\n",
      " -0.02598113 -0.02489109 -0.02317206 -0.02095336 -0.0188389  -0.01671117\n",
      " -0.01495131 -0.01472184 -0.01434342 -0.01405752 -0.01389481 -0.01444609\n",
      " -0.01505397 -0.01560982 -0.01607586 -0.01676884 -0.01812032 -0.01854913\n",
      " -0.01895414 -0.01939395 -0.01898172 -0.01676989 -0.01572073 -0.01618585\n",
      " -0.01660971 -0.01740146 -0.01676912 -0.01766283 -0.01930277 -0.01981919\n",
      " -0.02031036 -0.02040231 -0.0211743  -0.02200701 -0.02270335 -0.02327442\n",
      " -0.02387722 -0.02517945 -0.02641507 -0.02745699 -0.02885897 -0.02982368\n",
      " -0.03015542 -0.03085306 -0.0326033  -0.03490854 -0.03599789 -0.03644007\n",
      " -0.03535938 -0.03231882 -0.02908623 -0.02637669 -0.02464562 -0.02306792\n",
      " -0.02188222 -0.02100186 -0.02082038 -0.02079556 -0.02094117 -0.02187945\n",
      " -0.02307071 -0.02481338 -0.02562155 -0.02580425 -0.02575175 -0.02682349\n",
      " -0.02834707 -0.02849518 -0.027968   -0.02579255 -0.02297125 -0.02114386\n",
      " -0.02029482 -0.01913958 -0.01828601 -0.01811235 -0.01842147 -0.01916348\n",
      " -0.0194795  -0.01976047 -0.02013502 -0.020672   -0.02120906 -0.02212939\n",
      " -0.02256449 -0.02237955 -0.02242922 -0.02243677 -0.02272628 -0.02237819\n",
      " -0.02155665 -0.02131964 -0.02112244 -0.02135832 -0.02135868 -0.02095964\n",
      " -0.02138232 -0.02178416 -0.02201932 -0.02201208 -0.02214948 -0.02255024\n",
      " -0.02242636 -0.02180663 -0.02120823 -0.02060227 -0.01970823 -0.0199869\n",
      " -0.02106863 -0.02190177 -0.02205111 -0.02217692 -0.02271005 -0.02252673\n",
      " -0.02207991 -0.02249253 -0.02220658 -0.02200018 -0.02157939 -0.02049213\n",
      " -0.01954531 -0.01888943 -0.01975606 -0.02022554 -0.02177377 -0.02148964\n",
      " -0.02175386 -0.021246   -0.02188343 -0.02076108 -0.02042358 -0.02029317], sr=22050 as keyword args. From version 0.10 passing these as positional arguments will result in an error\n",
      "  mfcc = librosa.feature.mfcc(signal[start:finish], sample_rate, n_mfcc=num_mfcc, n_fft=n_fft, hop_length=hop_length)\n"
     ]
    },
    {
     "name": "stderr",
     "output_type": "stream",
     "text": [
      "<ipython-input-26-43b8552c8af4>:49: FutureWarning: Pass y=[-0.00815852 -0.01093773 -0.00906002 ... -0.02116779 -0.01879971\n",
      " -0.01837457], sr=22050 as keyword args. From version 0.10 passing these as positional arguments will result in an error\n",
      "  mfcc = librosa.feature.mfcc(signal[start:finish], sample_rate, n_mfcc=num_mfcc, n_fft=n_fft, hop_length=hop_length)\n",
      "<ipython-input-26-43b8552c8af4>:49: FutureWarning: Pass y=[-0.01975785 -0.01969867 -0.01686293 ... -0.00445927 -0.00486778\n",
      " -0.00711977], sr=22050 as keyword args. From version 0.10 passing these as positional arguments will result in an error\n",
      "  mfcc = librosa.feature.mfcc(signal[start:finish], sample_rate, n_mfcc=num_mfcc, n_fft=n_fft, hop_length=hop_length)\n",
      "<ipython-input-26-43b8552c8af4>:49: FutureWarning: Pass y=[-0.00912869 -0.01114331 -0.01227833 ... -0.00345207 -0.00602711\n",
      " -0.00942586], sr=22050 as keyword args. From version 0.10 passing these as positional arguments will result in an error\n",
      "  mfcc = librosa.feature.mfcc(signal[start:finish], sample_rate, n_mfcc=num_mfcc, n_fft=n_fft, hop_length=hop_length)\n",
      "<ipython-input-26-43b8552c8af4>:49: FutureWarning: Pass y=[-0.01064742 -0.01102844 -0.01011975 ...  0.00015813 -0.00067099\n",
      " -0.00177584], sr=22050 as keyword args. From version 0.10 passing these as positional arguments will result in an error\n",
      "  mfcc = librosa.feature.mfcc(signal[start:finish], sample_rate, n_mfcc=num_mfcc, n_fft=n_fft, hop_length=hop_length)\n",
      "<ipython-input-26-43b8552c8af4>:49: FutureWarning: Pass y=[ 0.00102681  0.00074484 -0.00176576 ... -0.02940546 -0.03748899\n",
      " -0.04651309], sr=22050 as keyword args. From version 0.10 passing these as positional arguments will result in an error\n",
      "  mfcc = librosa.feature.mfcc(signal[start:finish], sample_rate, n_mfcc=num_mfcc, n_fft=n_fft, hop_length=hop_length)\n",
      "<ipython-input-26-43b8552c8af4>:49: FutureWarning: Pass y=[-0.05289234 -0.05308984 -0.04718414 ... -0.00700219 -0.00796383\n",
      " -0.0065965 ], sr=22050 as keyword args. From version 0.10 passing these as positional arguments will result in an error\n",
      "  mfcc = librosa.feature.mfcc(signal[start:finish], sample_rate, n_mfcc=num_mfcc, n_fft=n_fft, hop_length=hop_length)\n",
      "<ipython-input-26-43b8552c8af4>:49: FutureWarning: Pass y=[-0.0051642  -0.00526557 -0.005394   ...  0.02103071  0.01712702\n",
      "  0.01380515], sr=22050 as keyword args. From version 0.10 passing these as positional arguments will result in an error\n",
      "  mfcc = librosa.feature.mfcc(signal[start:finish], sample_rate, n_mfcc=num_mfcc, n_fft=n_fft, hop_length=hop_length)\n",
      "<ipython-input-26-43b8552c8af4>:49: FutureWarning: Pass y=[ 0.01190583  0.01226725  0.01446828 ... -0.00677598 -0.00627629\n",
      " -0.00735181], sr=22050 as keyword args. From version 0.10 passing these as positional arguments will result in an error\n",
      "  mfcc = librosa.feature.mfcc(signal[start:finish], sample_rate, n_mfcc=num_mfcc, n_fft=n_fft, hop_length=hop_length)\n",
      "<ipython-input-26-43b8552c8af4>:49: FutureWarning: Pass y=[-0.00845285 -0.00768598 -0.00516998 ...  0.00624208  0.00594741\n",
      "  0.00588518], sr=22050 as keyword args. From version 0.10 passing these as positional arguments will result in an error\n",
      "  mfcc = librosa.feature.mfcc(signal[start:finish], sample_rate, n_mfcc=num_mfcc, n_fft=n_fft, hop_length=hop_length)\n"
     ]
    },
    {
     "name": "stdout",
     "output_type": "stream",
     "text": [
      "C:\\Users\\feliz\\Documents\\aprendiendo python rapido\\tesis\\cantos pajaritos\\Starlings\\st_T0000047.WAV, segment:1\n",
      "C:\\Users\\feliz\\Documents\\aprendiendo python rapido\\tesis\\cantos pajaritos\\Starlings\\st_T0000047.WAV, segment:2\n",
      "C:\\Users\\feliz\\Documents\\aprendiendo python rapido\\tesis\\cantos pajaritos\\Starlings\\st_T0000047.WAV, segment:3\n",
      "C:\\Users\\feliz\\Documents\\aprendiendo python rapido\\tesis\\cantos pajaritos\\Starlings\\st_T0000047.WAV, segment:4\n",
      "C:\\Users\\feliz\\Documents\\aprendiendo python rapido\\tesis\\cantos pajaritos\\Starlings\\st_T0000047.WAV, segment:5\n",
      "C:\\Users\\feliz\\Documents\\aprendiendo python rapido\\tesis\\cantos pajaritos\\Starlings\\st_T0000047.WAV, segment:6\n",
      "C:\\Users\\feliz\\Documents\\aprendiendo python rapido\\tesis\\cantos pajaritos\\Starlings\\st_T0000047.WAV, segment:7\n",
      "C:\\Users\\feliz\\Documents\\aprendiendo python rapido\\tesis\\cantos pajaritos\\Starlings\\st_T0000047.WAV, segment:8\n",
      "C:\\Users\\feliz\\Documents\\aprendiendo python rapido\\tesis\\cantos pajaritos\\Starlings\\st_T0000047.WAV, segment:9\n"
     ]
    },
    {
     "name": "stderr",
     "output_type": "stream",
     "text": [
      "<ipython-input-26-43b8552c8af4>:49: FutureWarning: Pass y=[ 0.00524442  0.00537042  0.00599571 ... -0.02335129 -0.02647285\n",
      "  0.        ], sr=22050 as keyword args. From version 0.10 passing these as positional arguments will result in an error\n",
      "  mfcc = librosa.feature.mfcc(signal[start:finish], sample_rate, n_mfcc=num_mfcc, n_fft=n_fft, hop_length=hop_length)\n",
      "<ipython-input-26-43b8552c8af4>:49: FutureWarning: Pass y=[ 0.01169448  0.01755297  0.01540005 ... -0.05198601 -0.0515251\n",
      " -0.05144747], sr=22050 as keyword args. From version 0.10 passing these as positional arguments will result in an error\n",
      "  mfcc = librosa.feature.mfcc(signal[start:finish], sample_rate, n_mfcc=num_mfcc, n_fft=n_fft, hop_length=hop_length)\n"
     ]
    },
    {
     "name": "stdout",
     "output_type": "stream",
     "text": [
      "\n",
      "Processing: white crowned sparrows\n",
      "C:\\Users\\feliz\\Documents\\aprendiendo python rapido\\tesis\\cantos pajaritos\\white crowned sparrows\\wcs_T0000135.WAV, segment:1\n",
      "C:\\Users\\feliz\\Documents\\aprendiendo python rapido\\tesis\\cantos pajaritos\\white crowned sparrows\\wcs_T0000135.WAV, segment:2\n",
      "\n",
      "Processing: Zebra Finches\n"
     ]
    },
    {
     "name": "stderr",
     "output_type": "stream",
     "text": [
      "<ipython-input-26-43b8552c8af4>:49: FutureWarning: Pass y=[-0.05092467 -0.0503554  -0.05042185 ... -0.04017199 -0.04023804\n",
      " -0.04070625], sr=22050 as keyword args. From version 0.10 passing these as positional arguments will result in an error\n",
      "  mfcc = librosa.feature.mfcc(signal[start:finish], sample_rate, n_mfcc=num_mfcc, n_fft=n_fft, hop_length=hop_length)\n",
      "<ipython-input-26-43b8552c8af4>:49: FutureWarning: Pass y=[-0.04062923 -0.04084998 -0.0409856  ... -0.12472681 -0.12354594\n",
      " -0.1309831 ], sr=22050 as keyword args. From version 0.10 passing these as positional arguments will result in an error\n",
      "  mfcc = librosa.feature.mfcc(signal[start:finish], sample_rate, n_mfcc=num_mfcc, n_fft=n_fft, hop_length=hop_length)\n",
      "<ipython-input-26-43b8552c8af4>:49: FutureWarning: Pass y=[0.0089969  0.01343224 0.01188991 ... 0.03632329 0.03535443 0.03390677], sr=22050 as keyword args. From version 0.10 passing these as positional arguments will result in an error\n",
      "  mfcc = librosa.feature.mfcc(signal[start:finish], sample_rate, n_mfcc=num_mfcc, n_fft=n_fft, hop_length=hop_length)\n",
      "<ipython-input-26-43b8552c8af4>:49: FutureWarning: Pass y=[0.03158453 0.03082374 0.04075669 ... 0.04874605 0.05913605 0.06580741], sr=22050 as keyword args. From version 0.10 passing these as positional arguments will result in an error\n",
      "  mfcc = librosa.feature.mfcc(signal[start:finish], sample_rate, n_mfcc=num_mfcc, n_fft=n_fft, hop_length=hop_length)\n",
      "<ipython-input-26-43b8552c8af4>:49: FutureWarning: Pass y=[0.05494314 0.06253547 0.07692359 ... 0.01526215 0.01566924 0.01565408], sr=22050 as keyword args. From version 0.10 passing these as positional arguments will result in an error\n",
      "  mfcc = librosa.feature.mfcc(signal[start:finish], sample_rate, n_mfcc=num_mfcc, n_fft=n_fft, hop_length=hop_length)\n",
      "<ipython-input-26-43b8552c8af4>:49: FutureWarning: Pass y=[0.01544469 0.01528343 0.01563929 ... 0.01656023 0.0164329  0.01665238], sr=22050 as keyword args. From version 0.10 passing these as positional arguments will result in an error\n",
      "  mfcc = librosa.feature.mfcc(signal[start:finish], sample_rate, n_mfcc=num_mfcc, n_fft=n_fft, hop_length=hop_length)\n",
      "<ipython-input-26-43b8552c8af4>:49: FutureWarning: Pass y=[0.01652416 0.01685214 0.0171062  ... 0.01695692 0.01638672 0.01727977], sr=22050 as keyword args. From version 0.10 passing these as positional arguments will result in an error\n",
      "  mfcc = librosa.feature.mfcc(signal[start:finish], sample_rate, n_mfcc=num_mfcc, n_fft=n_fft, hop_length=hop_length)\n"
     ]
    },
    {
     "name": "stdout",
     "output_type": "stream",
     "text": [
      "C:\\Users\\feliz\\Documents\\aprendiendo python rapido\\tesis\\cantos pajaritos\\Zebra Finches\\zfbr_T0000010.WAV, segment:1\n",
      "C:\\Users\\feliz\\Documents\\aprendiendo python rapido\\tesis\\cantos pajaritos\\Zebra Finches\\zfbr_T0000010.WAV, segment:2\n",
      "C:\\Users\\feliz\\Documents\\aprendiendo python rapido\\tesis\\cantos pajaritos\\Zebra Finches\\zfbr_T0000010.WAV, segment:3\n",
      "C:\\Users\\feliz\\Documents\\aprendiendo python rapido\\tesis\\cantos pajaritos\\Zebra Finches\\zfbr_T0000010.WAV, segment:4\n"
     ]
    },
    {
     "name": "stderr",
     "output_type": "stream",
     "text": [
      "<ipython-input-26-43b8552c8af4>:49: FutureWarning: Pass y=[0.00807873 0.01237555 0.01089771 ... 0.00796863 0.00875633 0.00900481], sr=22050 as keyword args. From version 0.10 passing these as positional arguments will result in an error\n",
      "  mfcc = librosa.feature.mfcc(signal[start:finish], sample_rate, n_mfcc=num_mfcc, n_fft=n_fft, hop_length=hop_length)\n",
      "<ipython-input-26-43b8552c8af4>:49: FutureWarning: Pass y=[0.00889809 0.00875217 0.00874742 ... 0.00823965 0.00777848 0.00867366], sr=22050 as keyword args. From version 0.10 passing these as positional arguments will result in an error\n",
      "  mfcc = librosa.feature.mfcc(signal[start:finish], sample_rate, n_mfcc=num_mfcc, n_fft=n_fft, hop_length=hop_length)\n",
      "<ipython-input-26-43b8552c8af4>:49: FutureWarning: Pass y=[0.00943563 0.00911021 0.00810171 ... 0.010489   0.00967353 0.0091716 ], sr=22050 as keyword args. From version 0.10 passing these as positional arguments will result in an error\n",
      "  mfcc = librosa.feature.mfcc(signal[start:finish], sample_rate, n_mfcc=num_mfcc, n_fft=n_fft, hop_length=hop_length)\n",
      "<ipython-input-26-43b8552c8af4>:49: FutureWarning: Pass y=[0.01030671 0.01052765 0.01014239 ... 0.03351953 0.03234104 0.03420627], sr=22050 as keyword args. From version 0.10 passing these as positional arguments will result in an error\n",
      "  mfcc = librosa.feature.mfcc(signal[start:finish], sample_rate, n_mfcc=num_mfcc, n_fft=n_fft, hop_length=hop_length)\n",
      "<ipython-input-26-43b8552c8af4>:49: FutureWarning: Pass y=[0.0351733  0.03368603 0.03289988 ... 0.00784048 0.00661726 0.00662774], sr=22050 as keyword args. From version 0.10 passing these as positional arguments will result in an error\n",
      "  mfcc = librosa.feature.mfcc(signal[start:finish], sample_rate, n_mfcc=num_mfcc, n_fft=n_fft, hop_length=hop_length)\n",
      "<ipython-input-26-43b8552c8af4>:49: FutureWarning: Pass y=[0.00845309 0.00860037 0.00743961 ... 0.005728   0.00595814 0.00535904], sr=22050 as keyword args. From version 0.10 passing these as positional arguments will result in an error\n",
      "  mfcc = librosa.feature.mfcc(signal[start:finish], sample_rate, n_mfcc=num_mfcc, n_fft=n_fft, hop_length=hop_length)\n",
      "<ipython-input-26-43b8552c8af4>:49: FutureWarning: Pass y=[0.00561911 0.00563037 0.00551971 ... 0.00430996 0.00478861 0.00542328], sr=22050 as keyword args. From version 0.10 passing these as positional arguments will result in an error\n",
      "  mfcc = librosa.feature.mfcc(signal[start:finish], sample_rate, n_mfcc=num_mfcc, n_fft=n_fft, hop_length=hop_length)\n"
     ]
    },
    {
     "name": "stdout",
     "output_type": "stream",
     "text": [
      "C:\\Users\\feliz\\Documents\\aprendiendo python rapido\\tesis\\cantos pajaritos\\Zebra Finches\\zfbr_T0000048.WAV, segment:1\n",
      "C:\\Users\\feliz\\Documents\\aprendiendo python rapido\\tesis\\cantos pajaritos\\Zebra Finches\\zfbr_T0000048.WAV, segment:2\n",
      "C:\\Users\\feliz\\Documents\\aprendiendo python rapido\\tesis\\cantos pajaritos\\Zebra Finches\\zfbr_T0000048.WAV, segment:3\n",
      "C:\\Users\\feliz\\Documents\\aprendiendo python rapido\\tesis\\cantos pajaritos\\Zebra Finches\\zfbr_T0000048.WAV, segment:4\n",
      "C:\\Users\\feliz\\Documents\\aprendiendo python rapido\\tesis\\cantos pajaritos\\Zebra Finches\\zfbr_T0000048.WAV, segment:5\n",
      "C:\\Users\\feliz\\Documents\\aprendiendo python rapido\\tesis\\cantos pajaritos\\Zebra Finches\\zfbr_T0000048.WAV, segment:6\n"
     ]
    },
    {
     "name": "stderr",
     "output_type": "stream",
     "text": [
      "<ipython-input-26-43b8552c8af4>:49: FutureWarning: Pass y=[0.02790437 0.04163448 0.03517888 ... 0.11966343 0.12336622 0.11176237], sr=22050 as keyword args. From version 0.10 passing these as positional arguments will result in an error\n",
      "  mfcc = librosa.feature.mfcc(signal[start:finish], sample_rate, n_mfcc=num_mfcc, n_fft=n_fft, hop_length=hop_length)\n",
      "<ipython-input-26-43b8552c8af4>:49: FutureWarning: Pass y=[0.10311196 0.09918425 0.10208019 ... 0.18498875 0.18799657 0.19254296], sr=22050 as keyword args. From version 0.10 passing these as positional arguments will result in an error\n",
      "  mfcc = librosa.feature.mfcc(signal[start:finish], sample_rate, n_mfcc=num_mfcc, n_fft=n_fft, hop_length=hop_length)\n",
      "<ipython-input-26-43b8552c8af4>:49: FutureWarning: Pass y=[0.1938948  0.19412331 0.19206645 ... 0.03508513 0.0357881  0.03613946], sr=22050 as keyword args. From version 0.10 passing these as positional arguments will result in an error\n",
      "  mfcc = librosa.feature.mfcc(signal[start:finish], sample_rate, n_mfcc=num_mfcc, n_fft=n_fft, hop_length=hop_length)\n"
     ]
    },
    {
     "name": "stdout",
     "output_type": "stream",
     "text": [
      "C:\\Users\\feliz\\Documents\\aprendiendo python rapido\\tesis\\cantos pajaritos\\Zebra Finches\\zfbr_T0000167.WAV, segment:1\n",
      "C:\\Users\\feliz\\Documents\\aprendiendo python rapido\\tesis\\cantos pajaritos\\Zebra Finches\\zfbr_T0000167.WAV, segment:2\n"
     ]
    },
    {
     "name": "stderr",
     "output_type": "stream",
     "text": [
      "<ipython-input-26-43b8552c8af4>:49: FutureWarning: Pass y=[0.01029157 0.01678151 0.01938404 ... 0.00258358 0.0019096  0.00178177], sr=22050 as keyword args. From version 0.10 passing these as positional arguments will result in an error\n",
      "  mfcc = librosa.feature.mfcc(signal[start:finish], sample_rate, n_mfcc=num_mfcc, n_fft=n_fft, hop_length=hop_length)\n",
      "<ipython-input-26-43b8552c8af4>:49: FutureWarning: Pass y=[0.00157644 0.00156216 0.00130904 ... 0.0103898  0.01164637 0.01139831], sr=22050 as keyword args. From version 0.10 passing these as positional arguments will result in an error\n",
      "  mfcc = librosa.feature.mfcc(signal[start:finish], sample_rate, n_mfcc=num_mfcc, n_fft=n_fft, hop_length=hop_length)\n",
      "<ipython-input-26-43b8552c8af4>:49: FutureWarning: Pass y=[0.01090687 0.01073284 0.0115006  ... 0.02326637 0.02290887 0.02365535], sr=22050 as keyword args. From version 0.10 passing these as positional arguments will result in an error\n",
      "  mfcc = librosa.feature.mfcc(signal[start:finish], sample_rate, n_mfcc=num_mfcc, n_fft=n_fft, hop_length=hop_length)\n",
      "<ipython-input-26-43b8552c8af4>:49: FutureWarning: Pass y=[0.02307159 0.02282704 0.02370819 ... 0.02390313 0.02197137 0.02262292], sr=22050 as keyword args. From version 0.10 passing these as positional arguments will result in an error\n",
      "  mfcc = librosa.feature.mfcc(signal[start:finish], sample_rate, n_mfcc=num_mfcc, n_fft=n_fft, hop_length=hop_length)\n"
     ]
    },
    {
     "name": "stdout",
     "output_type": "stream",
     "text": [
      "C:\\Users\\feliz\\Documents\\aprendiendo python rapido\\tesis\\cantos pajaritos\\Zebra Finches\\zfbr_T0000688.WAV, segment:1\n",
      "C:\\Users\\feliz\\Documents\\aprendiendo python rapido\\tesis\\cantos pajaritos\\Zebra Finches\\zfbr_T0000688.WAV, segment:2\n",
      "C:\\Users\\feliz\\Documents\\aprendiendo python rapido\\tesis\\cantos pajaritos\\Zebra Finches\\zfbr_T0000688.WAV, segment:3\n"
     ]
    }
   ],
   "source": [
    "def save_mfcc(dataset_path, json_path, num_mfcc=13, n_fft=2048, hop_length=512, num_segments=5):\n",
    "    \"\"\"Extracts MFCCs from music dataset and saves them into a json file along witgh genre labels.\n",
    "        :param dataset_path (str): Path to dataset\n",
    "        :param json_path (str): Path to json file used to save MFCCs\n",
    "        :param num_mfcc (int): Number of coefficients to extract\n",
    "        :param n_fft (int): Interval we consider to apply FFT. Measured in # of samples\n",
    "        :param hop_length (int): Sliding window for FFT. Measured in # of samples\n",
    "        :param: num_segments (int): Number of segments we want to divide sample tracks into\n",
    "        :return:\n",
    "        \"\"\"\n",
    "\n",
    "    # dictionary to store mapping, labels, and MFCCs\n",
    "    data = {\n",
    "        \"mapping\": [],\n",
    "        \"labels\": [],\n",
    "        \"mfcc\": []\n",
    "    }\n",
    "    \n",
    "\n",
    "    samples_per_segment = int(SAMPLES_PER_TRACK / num_segments)\n",
    "    num_mfcc_vectors_per_segment = math.ceil(samples_per_segment / hop_length)\n",
    "\n",
    "    # loop through all genre sub-folder\n",
    "    for i, (dirpath, dirnames, filenames) in enumerate(os.walk(dataset_path)):\n",
    "\n",
    "        # ensure we're processing a genre sub-folder level\n",
    "        if dirpath is not dataset_path:\n",
    "\n",
    "            # save genre label (i.e., sub-folder name) in the mapping\n",
    "            semantic_label = dirpath.split(\"\\\\\")[-1]\n",
    "            data[\"mapping\"].append(semantic_label)\n",
    "            print(\"\\nProcessing: {}\".format(semantic_label))\n",
    "\n",
    "            # process all audio files in genre sub-dir\n",
    "            for f in filenames:\n",
    "\n",
    "# load audio file\n",
    "                file_path = os.path.join(dirpath, f)\n",
    "                signal, sample_rate = librosa.load(file_path, sr=SAMPLE_RATE)\n",
    "\n",
    "                # process all segments of audio file\n",
    "                for d in range(num_segments):\n",
    "\n",
    "                    # calculate start and finish sample for current segment\n",
    "                    start = samples_per_segment * d\n",
    "                    finish = start + samples_per_segment\n",
    "\n",
    "                    # extract mfcc\n",
    "                    mfcc = librosa.feature.mfcc(signal[start:finish], sample_rate, n_mfcc=num_mfcc, n_fft=n_fft, hop_length=hop_length)\n",
    "                    mfcc = mfcc.T\n",
    "\n",
    "                    # store only mfcc feature with expected number of vectors\n",
    "                    if len(mfcc) == num_mfcc_vectors_per_segment:\n",
    "                        data[\"mfcc\"].append(mfcc.tolist())\n",
    "                        data[\"labels\"].append(i-1)\n",
    "                        print(\"{}, segment:{}\".format(file_path, d+1))\n",
    "\n",
    "    # save MFCCs to json file\n",
    "    with open(json_path, \"w\") as fp:\n",
    "        json.dump(data, fp, indent=4)\n",
    "        \n",
    "        \n",
    "if __name__ == \"__main__\":\n",
    "    save_mfcc(DATASET_PATH, JSON_PATH, num_segments=10)\n"
   ]
  },
  {
   "cell_type": "code",
   "execution_count": null,
   "id": "52c378e0",
   "metadata": {},
   "outputs": [],
   "source": []
  }
 ],
 "metadata": {
  "kernelspec": {
   "display_name": "Python 3",
   "language": "python",
   "name": "python3"
  },
  "language_info": {
   "codemirror_mode": {
    "name": "ipython",
    "version": 3
   },
   "file_extension": ".py",
   "mimetype": "text/x-python",
   "name": "python",
   "nbconvert_exporter": "python",
   "pygments_lexer": "ipython3",
   "version": "3.8.8"
  }
 },
 "nbformat": 4,
 "nbformat_minor": 5
}
